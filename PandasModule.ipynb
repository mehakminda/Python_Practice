{
  "nbformat": 4,
  "nbformat_minor": 0,
  "metadata": {
    "colab": {
      "provenance": [],
      "authorship_tag": "ABX9TyO2vU4k2GReVQ4gm/yAzt1M",
      "include_colab_link": true
    },
    "kernelspec": {
      "name": "python3",
      "display_name": "Python 3"
    },
    "language_info": {
      "name": "python"
    }
  },
  "cells": [
    {
      "cell_type": "markdown",
      "metadata": {
        "id": "view-in-github",
        "colab_type": "text"
      },
      "source": [
        "<a href=\"https://colab.research.google.com/github/mehakminda/Python_Practice/blob/main/PandasModule.ipynb\" target=\"_parent\"><img src=\"https://colab.research.google.com/assets/colab-badge.svg\" alt=\"Open In Colab\"/></a>"
      ]
    },
    {
      "cell_type": "markdown",
      "source": [
        "EXCEl vs Pandas\n",
        "\n",
        ">2 Gb -> excel tends to become slow\n",
        "\n",
        "Dataframe: python dictionary"
      ],
      "metadata": {
        "id": "wdXFK1MHbFvj"
      }
    },
    {
      "cell_type": "code",
      "execution_count": 1,
      "metadata": {
        "colab": {
          "base_uri": "https://localhost:8080/"
        },
        "id": "2Vqg2pqVG8QQ",
        "outputId": "92be3ca9-44ea-4ab1-89f5-4475e6f2b245"
      },
      "outputs": [
        {
          "output_type": "stream",
          "name": "stdout",
          "text": [
            "   Day  Visitors  Bounce_rate\n",
            "0    1        43           65\n",
            "1    2        53           72\n",
            "2    3        34           62\n",
            "3    4        45           64\n",
            "4    5        64           54\n",
            "5    6        34           66\n"
          ]
        }
      ],
      "source": [
        "import pandas as pd\n",
        "import matplotlib.pyplot as plt\n",
        "from matplotlib import style\n",
        "style.use('ggplot')\n",
        "\n",
        "web_stats={'Day':[1,2,3,4,5,6],\n",
        "           'Visitors':[43,53,34,45,64,34],\n",
        "           'Bounce_rate': [65,72,62,64,54,66]}\n",
        "\n",
        "#convert web_stats into dataframe\n",
        "df=pd.DataFrame(web_stats)\n",
        "print(df)"
      ]
    },
    {
      "cell_type": "code",
      "source": [],
      "metadata": {
        "id": "soiBssNfbBdG"
      },
      "execution_count": null,
      "outputs": []
    },
    {
      "cell_type": "code",
      "source": [],
      "metadata": {
        "id": "BXRTDkQpbBHj"
      },
      "execution_count": null,
      "outputs": []
    }
  ]
}